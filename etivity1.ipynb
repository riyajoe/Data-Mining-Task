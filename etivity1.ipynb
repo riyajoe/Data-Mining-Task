{
  "nbformat": 4,
  "nbformat_minor": 0,
  "metadata": {
    "orig_nbformat": 2,
    "colab": {
      "name": "etivity1.ipynb",
      "provenance": [],
      "collapsed_sections": [],
      "toc_visible": true,
      "include_colab_link": true
    },
    "kernelspec": {
      "name": "python3",
      "display_name": "Python 3"
    }
  },
  "cells": [
    {
      "cell_type": "markdown",
      "metadata": {
        "id": "view-in-github",
        "colab_type": "text"
      },
      "source": [
        "<a href=\"https://colab.research.google.com/github/riyajoe/Data_Mining/blob/main/etivity1.ipynb\" target=\"_parent\"><img src=\"https://colab.research.google.com/assets/colab-badge.svg\" alt=\"Open In Colab\"/></a>"
      ]
    },
    {
      "cell_type": "markdown",
      "metadata": {
        "id": "XrdRqVG3Jahz"
      },
      "source": [
        ""
      ]
    },
    {
      "cell_type": "markdown",
      "metadata": {
        "id": "ywUaJQryt48M"
      },
      "source": [
        "# **Etivity 1**\r\n",
        "\r\n",
        " **Name :RIYA JOE**\r\n",
        "\r\n",
        " **Student Number : 20023693**"
      ]
    },
    {
      "cell_type": "markdown",
      "metadata": {
        "id": "cN9CIQg6hcOK"
      },
      "source": [
        "**INPUT TEST DATA SET** - bank.csv\r\n",
        "\r\n",
        "It contains column attributes having **categorical** and **numerical** values.The first phase of exploratory data analysis deals quick review of values at the top and bottom of the data set"
      ]
    },
    {
      "cell_type": "code",
      "metadata": {
        "id": "I3VKEKY8t3zp",
        "colab": {
          "base_uri": "https://localhost:8080/",
          "height": 239
        },
        "outputId": "c3c7a824-fd15-41f7-9b51-489bdc222ee1"
      },
      "source": [
        "import pandas as pd\r\n",
        "import numpy as np\r\n",
        "import matplotlib.pyplot as plt\r\n",
        "import seaborn as sns\r\n",
        "df=pd.read_csv('bank.csv')\r\n",
        "df.head(5)"
      ],
      "execution_count": 5,
      "outputs": [
        {
          "output_type": "execute_result",
          "data": {
            "text/html": [
              "<div>\n",
              "<style scoped>\n",
              "    .dataframe tbody tr th:only-of-type {\n",
              "        vertical-align: middle;\n",
              "    }\n",
              "\n",
              "    .dataframe tbody tr th {\n",
              "        vertical-align: top;\n",
              "    }\n",
              "\n",
              "    .dataframe thead th {\n",
              "        text-align: right;\n",
              "    }\n",
              "</style>\n",
              "<table border=\"1\" class=\"dataframe\">\n",
              "  <thead>\n",
              "    <tr style=\"text-align: right;\">\n",
              "      <th></th>\n",
              "      <th>age</th>\n",
              "      <th>job</th>\n",
              "      <th>marital</th>\n",
              "      <th>education</th>\n",
              "      <th>default</th>\n",
              "      <th>balance</th>\n",
              "      <th>housing</th>\n",
              "      <th>loan</th>\n",
              "      <th>contact</th>\n",
              "      <th>day</th>\n",
              "      <th>month</th>\n",
              "      <th>duration</th>\n",
              "      <th>campaign</th>\n",
              "      <th>pdays</th>\n",
              "      <th>previous</th>\n",
              "      <th>poutcome</th>\n",
              "      <th>subscribed</th>\n",
              "    </tr>\n",
              "  </thead>\n",
              "  <tbody>\n",
              "    <tr>\n",
              "      <th>0</th>\n",
              "      <td>32.0</td>\n",
              "      <td>technician</td>\n",
              "      <td>single</td>\n",
              "      <td>tertiary</td>\n",
              "      <td>no</td>\n",
              "      <td>392</td>\n",
              "      <td>yes</td>\n",
              "      <td>no</td>\n",
              "      <td>cellular</td>\n",
              "      <td>1</td>\n",
              "      <td>apr</td>\n",
              "      <td>957</td>\n",
              "      <td>2</td>\n",
              "      <td>131</td>\n",
              "      <td>2</td>\n",
              "      <td>failure</td>\n",
              "      <td>no</td>\n",
              "    </tr>\n",
              "    <tr>\n",
              "      <th>1</th>\n",
              "      <td>39.0</td>\n",
              "      <td>technician</td>\n",
              "      <td>divorced</td>\n",
              "      <td>secondary</td>\n",
              "      <td>no</td>\n",
              "      <td>688</td>\n",
              "      <td>yes</td>\n",
              "      <td>yes</td>\n",
              "      <td>cellular</td>\n",
              "      <td>1</td>\n",
              "      <td>apr</td>\n",
              "      <td>233</td>\n",
              "      <td>2</td>\n",
              "      <td>133</td>\n",
              "      <td>1</td>\n",
              "      <td>failure</td>\n",
              "      <td>no</td>\n",
              "    </tr>\n",
              "    <tr>\n",
              "      <th>2</th>\n",
              "      <td>59.0</td>\n",
              "      <td>retired</td>\n",
              "      <td>married</td>\n",
              "      <td>secondary</td>\n",
              "      <td>no</td>\n",
              "      <td>1035</td>\n",
              "      <td>yes</td>\n",
              "      <td>yes</td>\n",
              "      <td>cellular</td>\n",
              "      <td>1</td>\n",
              "      <td>apr</td>\n",
              "      <td>126</td>\n",
              "      <td>2</td>\n",
              "      <td>239</td>\n",
              "      <td>1</td>\n",
              "      <td>failure</td>\n",
              "      <td>no</td>\n",
              "    </tr>\n",
              "    <tr>\n",
              "      <th>3</th>\n",
              "      <td>47.0</td>\n",
              "      <td>blue-collar</td>\n",
              "      <td>married</td>\n",
              "      <td>secondary</td>\n",
              "      <td>no</td>\n",
              "      <td>398</td>\n",
              "      <td>yes</td>\n",
              "      <td>yes</td>\n",
              "      <td>cellular</td>\n",
              "      <td>1</td>\n",
              "      <td>apr</td>\n",
              "      <td>274</td>\n",
              "      <td>1</td>\n",
              "      <td>238</td>\n",
              "      <td>2</td>\n",
              "      <td>failure</td>\n",
              "      <td>no</td>\n",
              "    </tr>\n",
              "    <tr>\n",
              "      <th>4</th>\n",
              "      <td>54.0</td>\n",
              "      <td>retired</td>\n",
              "      <td>married</td>\n",
              "      <td>secondary</td>\n",
              "      <td>no</td>\n",
              "      <td>1004</td>\n",
              "      <td>yes</td>\n",
              "      <td>no</td>\n",
              "      <td>cellular</td>\n",
              "      <td>1</td>\n",
              "      <td>apr</td>\n",
              "      <td>479</td>\n",
              "      <td>1</td>\n",
              "      <td>307</td>\n",
              "      <td>1</td>\n",
              "      <td>failure</td>\n",
              "      <td>no</td>\n",
              "    </tr>\n",
              "  </tbody>\n",
              "</table>\n",
              "</div>"
            ],
            "text/plain": [
              "    age          job   marital  education  ... pdays  previous poutcome subscribed\n",
              "0  32.0   technician    single   tertiary  ...   131         2  failure         no\n",
              "1  39.0   technician  divorced  secondary  ...   133         1  failure         no\n",
              "2  59.0      retired   married  secondary  ...   239         1  failure         no\n",
              "3  47.0  blue-collar   married  secondary  ...   238         2  failure         no\n",
              "4  54.0      retired   married  secondary  ...   307         1  failure         no\n",
              "\n",
              "[5 rows x 17 columns]"
            ]
          },
          "metadata": {
            "tags": []
          },
          "execution_count": 5
        }
      ]
    },
    {
      "cell_type": "markdown",
      "metadata": {
        "id": "wTiO1gm-mkSc"
      },
      "source": [
        "**INITIAL OBSERVATION**\r\n",
        "\r\n",
        "---\r\n",
        "There are missing/null values inside the given test data.From the data we can group age,job,marital,education,contact,subscribed could be mapped as a client related parameters.\r\n",
        "\r\n",
        "The balance,housing,loan and campaign as service attributes provided by the bank\r\n",
        "\r\n",
        "The day,month,duration,pdays,previous,poutcomes are associated to a campaign "
      ]
    },
    {
      "cell_type": "markdown",
      "metadata": {
        "id": "Y2QrLI4flqRQ"
      },
      "source": [
        "**CALCULATE THE STATISTICS**\r\n",
        "\r\n",
        "---\r\n",
        "\r\n",
        "\r\n",
        "\r\n"
      ]
    },
    {
      "cell_type": "code",
      "metadata": {
        "colab": {
          "base_uri": "https://localhost:8080/",
          "height": 294
        },
        "id": "myQgvKu5lOdb",
        "outputId": "cae3b8bd-4493-498a-cc92-9c70a9f863a0"
      },
      "source": [
        "df.describe()"
      ],
      "execution_count": null,
      "outputs": [
        {
          "output_type": "execute_result",
          "data": {
            "text/html": [
              "<div>\n",
              "<style scoped>\n",
              "    .dataframe tbody tr th:only-of-type {\n",
              "        vertical-align: middle;\n",
              "    }\n",
              "\n",
              "    .dataframe tbody tr th {\n",
              "        vertical-align: top;\n",
              "    }\n",
              "\n",
              "    .dataframe thead th {\n",
              "        text-align: right;\n",
              "    }\n",
              "</style>\n",
              "<table border=\"1\" class=\"dataframe\">\n",
              "  <thead>\n",
              "    <tr style=\"text-align: right;\">\n",
              "      <th></th>\n",
              "      <th>age</th>\n",
              "      <th>balance</th>\n",
              "      <th>day</th>\n",
              "      <th>duration</th>\n",
              "      <th>campaign</th>\n",
              "      <th>pdays</th>\n",
              "      <th>previous</th>\n",
              "    </tr>\n",
              "  </thead>\n",
              "  <tbody>\n",
              "    <tr>\n",
              "      <th>count</th>\n",
              "      <td>1988.000000</td>\n",
              "      <td>2000.000000</td>\n",
              "      <td>2000.000000</td>\n",
              "      <td>2000.000000</td>\n",
              "      <td>2000.000000</td>\n",
              "      <td>2000.000000</td>\n",
              "      <td>2000.000000</td>\n",
              "    </tr>\n",
              "    <tr>\n",
              "      <th>mean</th>\n",
              "      <td>41.753018</td>\n",
              "      <td>1413.663500</td>\n",
              "      <td>13.851500</td>\n",
              "      <td>292.020500</td>\n",
              "      <td>1.909500</td>\n",
              "      <td>167.896000</td>\n",
              "      <td>2.561500</td>\n",
              "    </tr>\n",
              "    <tr>\n",
              "      <th>std</th>\n",
              "      <td>12.724358</td>\n",
              "      <td>3131.224213</td>\n",
              "      <td>9.712189</td>\n",
              "      <td>221.557295</td>\n",
              "      <td>1.378862</td>\n",
              "      <td>131.754126</td>\n",
              "      <td>3.400735</td>\n",
              "    </tr>\n",
              "    <tr>\n",
              "      <th>min</th>\n",
              "      <td>18.000000</td>\n",
              "      <td>-980.000000</td>\n",
              "      <td>1.000000</td>\n",
              "      <td>7.000000</td>\n",
              "      <td>1.000000</td>\n",
              "      <td>-1.000000</td>\n",
              "      <td>0.000000</td>\n",
              "    </tr>\n",
              "    <tr>\n",
              "      <th>25%</th>\n",
              "      <td>32.000000</td>\n",
              "      <td>201.500000</td>\n",
              "      <td>5.000000</td>\n",
              "      <td>146.000000</td>\n",
              "      <td>1.000000</td>\n",
              "      <td>75.750000</td>\n",
              "      <td>1.000000</td>\n",
              "    </tr>\n",
              "    <tr>\n",
              "      <th>50%</th>\n",
              "      <td>38.000000</td>\n",
              "      <td>551.000000</td>\n",
              "      <td>12.000000</td>\n",
              "      <td>236.000000</td>\n",
              "      <td>1.000000</td>\n",
              "      <td>182.000000</td>\n",
              "      <td>2.000000</td>\n",
              "    </tr>\n",
              "    <tr>\n",
              "      <th>75%</th>\n",
              "      <td>50.000000</td>\n",
              "      <td>1644.500000</td>\n",
              "      <td>23.000000</td>\n",
              "      <td>379.000000</td>\n",
              "      <td>2.000000</td>\n",
              "      <td>251.000000</td>\n",
              "      <td>3.000000</td>\n",
              "    </tr>\n",
              "    <tr>\n",
              "      <th>max</th>\n",
              "      <td>93.000000</td>\n",
              "      <td>81204.000000</td>\n",
              "      <td>31.000000</td>\n",
              "      <td>1823.000000</td>\n",
              "      <td>11.000000</td>\n",
              "      <td>854.000000</td>\n",
              "      <td>55.000000</td>\n",
              "    </tr>\n",
              "  </tbody>\n",
              "</table>\n",
              "</div>"
            ],
            "text/plain": [
              "               age       balance  ...        pdays     previous\n",
              "count  1988.000000   2000.000000  ...  2000.000000  2000.000000\n",
              "mean     41.753018   1413.663500  ...   167.896000     2.561500\n",
              "std      12.724358   3131.224213  ...   131.754126     3.400735\n",
              "min      18.000000   -980.000000  ...    -1.000000     0.000000\n",
              "25%      32.000000    201.500000  ...    75.750000     1.000000\n",
              "50%      38.000000    551.000000  ...   182.000000     2.000000\n",
              "75%      50.000000   1644.500000  ...   251.000000     3.000000\n",
              "max      93.000000  81204.000000  ...   854.000000    55.000000\n",
              "\n",
              "[8 rows x 7 columns]"
            ]
          },
          "metadata": {
            "tags": []
          },
          "execution_count": 13
        }
      ]
    },
    {
      "cell_type": "markdown",
      "metadata": {
        "id": "2NP71O_luHYn"
      },
      "source": [
        " **VISUALIZE THE CATEGORICAL VALUES USING A HEATMAP**\r\n",
        "\r\n",
        "---\r\n",
        "\r\n"
      ]
    },
    {
      "cell_type": "code",
      "metadata": {
        "colab": {
          "base_uri": "https://localhost:8080/",
          "height": 309
        },
        "id": "vHo-j4i12-5f",
        "outputId": "739e312d-77c8-4996-afad-607fbfa51a44"
      },
      "source": [
        "sns.heatmap(df.corr());"
      ],
      "execution_count": 35,
      "outputs": [
        {
          "output_type": "display_data",
          "data": {
            "image/png": "[encoded data removed]",
            "text/plain": [
              "<Figure size 432x288 with 2 Axes>"
            ]
          },
          "metadata": {
            "tags": [],
            "needs_background": "light"
          }
        }
      ]
    },
    {
      "cell_type": "code",
      "metadata": {
        "colab": {
          "base_uri": "https://localhost:8080/",
          "height": 313
        },
        "id": "S4GxB0Fuj0Dg",
        "outputId": "587d77cf-e784-440b-85c8-7a2b281c6aa2"
      },
      "source": [
        "plt.title(' To identify the Number of Subscribed  Clients based on their Job')\r\n",
        "bank =df.pivot_table(index='job' ,columns='loan' ,values='subscribed',aggfunc=lambda x: x.map({'no':1,'yes':1}).sum(),fill_value=0)\r\n",
        "sns.heatmap(bank, annot=True, cbar_kws={'label': ' Subscription Rate  ', \"orientation\": \"vertical\"}, fmt='.4g')"
      ],
      "execution_count": 55,
      "outputs": [
        {
          "output_type": "execute_result",
          "data": {
            "text/plain": [
              "<matplotlib.axes._subplots.AxesSubplot at 0x7f5ee0f697b8>"
            ]
          },
          "metadata": {
            "tags": []
          },
          "execution_count": 55
        },
        {
          "output_type": "display_data",
          "data": {
            "image/png": "[encoded data removed]",
            "text/plain": [
              "<Figure size 432x288 with 2 Axes>"
            ]
          },
          "metadata": {
            "tags": [],
            "needs_background": "light"
          }
        }
      ]
    },
    {
      "cell_type": "markdown",
      "metadata": {
        "id": "WLPiDTiMPI-B"
      },
      "source": [
        "**CONCLUSION**\r\n",
        "\r\n",
        "---\r\n",
        "Students,Housemaids,umemployed,self-employed having loans applied to their accounts are have low subscription rate , where as clients having a management job post and having no loan applied have high subscription \r\n"
      ]
    },
    {
      "cell_type": "markdown",
      "metadata": {
        "id": "By-N53kxauFf"
      },
      "source": [
        "**THE NUMBER OF CLIENTS DISTRIBUTED BASED ON AGE** \r\n",
        "\r\n",
        "---\r\n",
        "\r\n",
        "\r\n",
        "\r\n",
        "\r\n"
      ]
    },
    {
      "cell_type": "code",
      "metadata": {
        "colab": {
          "base_uri": "https://localhost:8080/",
          "height": 295
        },
        "id": "y_xNcdASKJ4b",
        "outputId": "1bd7a6d8-77aa-4c42-81eb-5f9ac8306d12"
      },
      "source": [
        "plt.title('Variation of Clients Based on Age')\r\n",
        "plt.suptitle('')\r\n",
        "df['age'].hist(bins=10)\r\n",
        "plt.xlabel('Age')\r\n",
        "plt.ylabel('No of Clients')\r\n",
        "plt.show()"
      ],
      "execution_count": 43,
      "outputs": [
        {
          "output_type": "display_data",
          "data": {
            "image/png": "[encoded data removed]",
            "text/plain": [
              "<Figure size 432x288 with 1 Axes>"
            ]
          },
          "metadata": {
            "tags": [],
            "needs_background": "light"
          }
        }
      ]
    },
    {
      "cell_type": "markdown",
      "metadata": {
        "id": "DUoMDKUxbZOx"
      },
      "source": [
        " **CONCLUSION**\r\n",
        "\r\n",
        "---\r\n",
        "In the data most of the clients are aged from 35 to 40 while there are very clients aged above 60\r\n",
        "\r\n",
        "\r\n"
      ]
    },
    {
      "cell_type": "markdown",
      "metadata": {
        "id": "Wlo6YYxrctkI"
      },
      "source": [
        "**VARIATION IN CLIENTS BALANCE**\r\n",
        "\r\n",
        "---\r\n",
        "\r\n"
      ]
    },
    {
      "cell_type": "code",
      "metadata": {
        "colab": {
          "base_uri": "https://localhost:8080/",
          "height": 295
        },
        "id": "lRVG36yCOqd9",
        "outputId": "a614c10e-6ab4-4ef2-b432-99016d84e589"
      },
      "source": [
        "plt.title('Client Balance Variation')\r\n",
        "plt.suptitle('')\r\n",
        "df['balance'].hist(bins=30)\r\n",
        "plt.xlabel('Balance')\r\n",
        "plt.ylabel('No of clients')\r\n",
        "plt.show()"
      ],
      "execution_count": 41,
      "outputs": [
        {
          "output_type": "display_data",
          "data": {
            "image/png": "[encoded data removed]",
            "text/plain": [
              "<Figure size 432x288 with 1 Axes>"
            ]
          },
          "metadata": {
            "tags": [],
            "needs_background": "light"
          }
        }
      ]
    },
    {
      "cell_type": "markdown",
      "metadata": {
        "id": "hsI1PTeGp8fB"
      },
      "source": [
        "**OBSERVATION**\r\n",
        "\r\n",
        "---\r\n",
        "Shows most clients have balance less than 20000\r\n"
      ]
    },
    {
      "cell_type": "markdown",
      "metadata": {
        "id": "nfxCnrfYqKsK"
      },
      "source": [
        "**HISTOGRAM TO DISPLAY DISTRIBUTION EDUCATIONAL QAULIFICATION OF CLIENTS**\r\n",
        "\r\n",
        "---\r\n",
        "\r\n"
      ]
    },
    {
      "cell_type": "code",
      "metadata": {
        "colab": {
          "base_uri": "https://localhost:8080/",
          "height": 295
        },
        "id": "yvrP1aXkTK3z",
        "outputId": "579b5200-7b87-437d-8ade-4572643c5b0f"
      },
      "source": [
        "df['education'].hist(bins=5)\r\n",
        "plt.title('Client Education level distribution')\r\n",
        "plt.suptitle('')\r\n",
        "plt.xlabel('Education')\r\n",
        "plt.ylabel('No of people')\r\n",
        "plt.show()"
      ],
      "execution_count": null,
      "outputs": [
        {
          "output_type": "display_data",
          "data": {
            "image/png": "[encoded data removed]",
            "text/plain": [
              "<Figure size 432x288 with 1 Axes>"
            ]
          },
          "metadata": {
            "tags": [],
            "needs_background": "light"
          }
        }
      ]
    },
    {
      "cell_type": "markdown",
      "metadata": {
        "id": "gx8x-DxBqldH"
      },
      "source": [
        "**OBSERVATION**\r\n",
        "\r\n",
        "---\r\n",
        "\r\n",
        "It shows that most clients have completed their secondary education."
      ]
    },
    {
      "cell_type": "markdown",
      "metadata": {
        "id": "Ss21oe6wq43p"
      },
      "source": [
        "**BOX PLOT TO DISPLAY THE VARIOUS AGE GROUP OF CUSTOMERS WHO HAVE SUBSCRIBED THE TERM DEPOSIT**\r\n",
        "\r\n",
        "\r\n",
        "---\r\n",
        "\r\n"
      ]
    },
    {
      "cell_type": "code",
      "metadata": {
        "colab": {
          "base_uri": "https://localhost:8080/",
          "height": 295
        },
        "id": "CkJDi6KPQW_3",
        "outputId": "586b2091-02a6-4f8c-84ab-866c5f860eb3"
      },
      "source": [
        "sns.boxplot(x='subscribed', y='age', data=df)\r\n",
        "plt.title('Term Deposit is subscribed for what age group of customers')\r\n",
        "plt.suptitle('')\r\n",
        "plt.show()"
      ],
      "execution_count": null,
      "outputs": [
        {
          "output_type": "display_data",
          "data": {
            "image/png": "[encoded data removed]",
            "text/plain": [
              "<Figure size 432x288 with 1 Axes>"
            ]
          },
          "metadata": {
            "tags": [],
            "needs_background": "light"
          }
        }
      ]
    },
    {
      "cell_type": "markdown",
      "metadata": {
        "id": "SlW4534orVBA"
      },
      "source": [
        "**OBSERVATION**\r\n",
        "\r\n",
        "---\r\n",
        "\r\n",
        "Most clients who have subscribed term deposit fits under the age group of 35 to 55 ."
      ]
    },
    {
      "cell_type": "markdown",
      "metadata": {
        "id": "R6CKct8fr4F4"
      },
      "source": [
        "**BOX PLOT TO IDENTIFY WHICH RANGE OF CLIENTS BASED ON THIER ACCOUNT BALANCE HAVE LOAN APPLIED TO THIER ACCOUNTS**\r\n",
        "\r\n",
        "---\r\n",
        "\r\n"
      ]
    },
    {
      "cell_type": "code",
      "metadata": {
        "colab": {
          "base_uri": "https://localhost:8080/",
          "height": 295
        },
        "id": "KTmsJ2_1Q4J0",
        "outputId": "4f2df108-319a-4103-ec17-594e6a0484ac"
      },
      "source": [
        "sns.boxplot(x='loan', y='balance', data=df)\r\n",
        "\r\n",
        "plt.title('Distribution of clients using loan based on their balance')\r\n",
        "plt.suptitle('')\r\n",
        "plt.show()"
      ],
      "execution_count": null,
      "outputs": [
        {
          "output_type": "display_data",
          "data": {
            "image/png": "[encoded data removed]",
            "text/plain": [
              "<Figure size 432x288 with 1 Axes>"
            ]
          },
          "metadata": {
            "tags": [],
            "needs_background": "light"
          }
        }
      ]
    },
    {
      "cell_type": "markdown",
      "metadata": {
        "id": "OFmNWedhtJxn"
      },
      "source": [
        "**OBSERVATION**\r\n",
        "\r\n",
        "---\r\n",
        "\r\n",
        "Clients having account balance lesser than 20000 have applied for loan than other customers "
      ]
    },
    {
      "cell_type": "markdown",
      "metadata": {
        "id": "iqYecnjPuGNU"
      },
      "source": [
        "**BOXPLOT THAT SHOWS CLIENTS HAVING A LOAN HAS A LOWER BALANCE AND HAS A HOUSING LOAN APPLICABLE**\r\n",
        "\r\n",
        "\r\n",
        "---\r\n",
        "\r\n",
        "\r\n",
        "\r\n"
      ]
    },
    {
      "cell_type": "code",
      "metadata": {
        "colab": {
          "base_uri": "https://localhost:8080/",
          "height": 297
        },
        "id": "ehkTTPNyt-6o",
        "outputId": "15919bb6-937a-45af-c445-4a0aceaef802"
      },
      "source": [
        "sns.boxplot(x='housing', y='balance',data=df)"
      ],
      "execution_count": null,
      "outputs": [
        {
          "output_type": "execute_result",
          "data": {
            "text/plain": [
              "<matplotlib.axes._subplots.AxesSubplot at 0x7eff4d46ce10>"
            ]
          },
          "metadata": {
            "tags": []
          },
          "execution_count": 15
        },
        {
          "output_type": "display_data",
          "data": {
            "image/png": "[encoded data removed]",
            "text/plain": [
              "<Figure size 432x288 with 1 Axes>"
            ]
          },
          "metadata": {
            "tags": [],
            "needs_background": "light"
          }
        }
      ]
    },
    {
      "cell_type": "markdown",
      "metadata": {
        "id": "0DcDtph4usiK"
      },
      "source": [
        "**BOX PLOT THAT DISPLAYS POUTCOME BASED ON AGE GROUP**\r\n",
        "\r\n",
        "\r\n",
        "---\r\n",
        "\r\n"
      ]
    },
    {
      "cell_type": "code",
      "metadata": {
        "colab": {
          "base_uri": "https://localhost:8080/",
          "height": 295
        },
        "id": "F2ncXazBX5SZ",
        "outputId": "3b6dcdc4-f1c0-4cb3-9073-0f386e57d9df"
      },
      "source": [
        "sns.boxplot(x='subscribed', y='age',hue='default', data=df)\r\n",
        "plt.title('Distribution of poutcome(if campaign is a success or failure) based on age')\r\n",
        "plt.suptitle('')\r\n",
        "plt.show()"
      ],
      "execution_count": 60,
      "outputs": [
        {
          "output_type": "display_data",
          "data": {
            "image/png": "[encoded data removed]",
            "text/plain": [
              "<Figure size 432x288 with 1 Axes>"
            ]
          },
          "metadata": {
            "tags": [],
            "needs_background": "light"
          }
        }
      ]
    },
    {
      "cell_type": "markdown",
      "metadata": {
        "id": "ivOWWDSwu5XE"
      },
      "source": [
        "**BOX PLOT THAT DISPLAYS SUBSCRIPTION RATE BASED ON AGE AND MARITAL STATUS**\r\n",
        "\r\n",
        "---\r\n",
        "\r\n"
      ]
    },
    {
      "cell_type": "code",
      "metadata": {
        "colab": {
          "base_uri": "https://localhost:8080/",
          "height": 295
        },
        "id": "C5CRiMxUu6Lm",
        "outputId": "f9fc7bc4-7724-4b13-cd2b-e8d43415c134"
      },
      "source": [
        "import seaborn as sns\r\n",
        "sns.boxplot(x='marital', y='age',hue='subscribed', data=df)\r\n",
        "plt.title('Distribution of subscription  based on age and marital')\r\n",
        "plt.suptitle('')\r\n",
        "plt.show()"
      ],
      "execution_count": 56,
      "outputs": [
        {
          "output_type": "display_data",
          "data": {
            "image/png": "[encoded data removed]",
            "text/plain": [
              "<Figure size 432x288 with 1 Axes>"
            ]
          },
          "metadata": {
            "tags": [],
            "needs_background": "light"
          }
        }
      ]
    }
  ]
}